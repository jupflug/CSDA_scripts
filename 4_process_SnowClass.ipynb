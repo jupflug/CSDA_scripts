{
 "cells": [
  {
   "cell_type": "code",
   "execution_count": null,
   "id": "cf479efa-8139-4470-90c3-0391d962a89f",
   "metadata": {},
   "outputs": [],
   "source": [
    "# load dependencies and plot options\n",
    "import xarray as xr\n",
    "import numpy as np\n",
    "import matplotlib.pyplot as plt\n",
    "from matplotlib.colors import ListedColormap\n",
    "\n",
    "plt.rcParams['font.family'] = 'DeJavu Serif'\n",
    "plt.rcParams['font.serif'] = ['Times New Roman']"
   ]
  },
  {
   "cell_type": "markdown",
   "id": "9924678a-d26c-49f7-ba44-51911ebcfcda",
   "metadata": {},
   "source": [
    "## SET USER DEFINITIONS"
   ]
  },
  {
   "cell_type": "code",
   "execution_count": null,
   "id": "cdd6d9c1-2703-4020-8411-271b2a77bbd9",
   "metadata": {},
   "outputs": [],
   "source": [
    "# specify the list of domains, by ID\n",
    "DOMIDs = ['DAN','DPO','GIN','STR','551','737','869']\n",
    "\n",
    "# base directory containing each domain ID\n",
    "base_direcs = '/Users/jpflug/Documents/Projects/cubesatReanaly/Data/Meadows/' \n",
    "\n",
    "# custom colormap hex identifiers\n",
    "custom_cmap = ['#000000','#9E5546','#E5782E','#F9C71F']\n",
    "custom_cmap = ListedColormap(custom_cmap, name='custom_discrete_cmap')"
   ]
  },
  {
   "cell_type": "code",
   "execution_count": null,
   "id": "71056f7c-a514-4a2f-bce5-54317dc8bac3",
   "metadata": {},
   "outputs": [],
   "source": [
    "# loop through each domain identifier\n",
    "for DOMcount,DOM in enumerate(DOMIDs):\n",
    "\n",
    "    # load the average DSD anomaly\n",
    "    # see 3_process_DSD.ipynb\n",
    "    file = base_direcs+DOM+'/self_classified/SCA/avgDSD_anomaly.tif'\n",
    "    ref_data = xr.open_dataset(file)\n",
    "    data = ref_data['band_data'][0,:,:].values\n",
    "\n",
    "    # specify the percentile breaks leading to 4 equal area snow classes based on 5-year average DSD anomalies\n",
    "    breaks = np.nanpercentile(data,[25,50,75])\n",
    "    print(breaks)\n",
    "    # fill snow classes\n",
    "    data_classes = np.empty(data.shape)\n",
    "    data_classes[:] = 0\n",
    "    data_classes[data > breaks[0]] = 1\n",
    "    data_classes[data > breaks[1]] = 2\n",
    "    data_classes[data > breaks[2]] = 3\n",
    "    data_classes[np.isnan(data)] = np.nan\n",
    "\n",
    "    # come back to -- find more efficient way for data storage\n",
    "    if DOMcount == 0:\n",
    "        data_classes1 = data_classes.copy()\n",
    "    elif DOMcount == 1:\n",
    "        data_classes2 = data_classes.copy()\n",
    "    elif DOMcount == 2:\n",
    "        data_classes3 = data_classes.copy()\n",
    "    elif DOMcount == 3:\n",
    "        data_classes4 = data_classes.copy()\n",
    "    elif DOMcount == 4:\n",
    "        data_classes5 = data_classes.copy()\n",
    "    elif DOMcount == 5:\n",
    "        data_classes6 = data_classes.copy()\n",
    "    else:\n",
    "        data_classes7 = data_classes.copy()"
   ]
  },
  {
   "cell_type": "code",
   "execution_count": null,
   "id": "8247bc33-ddd3-4b86-87c9-9d57039fb37f",
   "metadata": {},
   "outputs": [],
   "source": [
    "# plot snow classes\n",
    "fig = plt.figure(figsize=(8.5,8.5))\n",
    "\n",
    "ax1 = fig.add_axes([0.01, 0.05, 0.4, 0.8])  # left, bottom, width, height\n",
    "ax2 = fig.add_axes([0.4, 0.295, 0.4, 0.8])  # left, bottom, width, height\n",
    "ax3 = fig.add_axes([0.4, -0.18, 0.4, 0.8])  # left, bottom, width, height\n",
    "ax4 = fig.add_axes([0.815, 0.245, 0.39, 0.8])  # left, bottom, width, height\n",
    "ax5 = fig.add_axes([0.815, -0.23, 0.386, 0.8])  # left, bottom, width, height\n",
    "ax6 = fig.add_axes([1.22, 0.265, 0.395, 0.8])  # left, bottom, width, height\n",
    "ax7 = fig.add_axes([1.22, -0.16, 0.395, 0.8])  # left, bottom, width, height\n",
    "\n",
    "out = ax1.imshow(data_classes1,cmap=custom_cmap,interpolation='none')\n",
    "ax2.imshow(data_classes2,cmap=custom_cmap,interpolation='none')\n",
    "ax3.imshow(data_classes3,cmap=custom_cmap,interpolation='none')\n",
    "ax4.imshow(data_classes4,cmap=custom_cmap,interpolation='none')\n",
    "ax5.imshow(data_classes5,cmap=custom_cmap,interpolation='none')\n",
    "ax6.imshow(data_classes6,cmap=custom_cmap,interpolation='none')\n",
    "ax7.imshow(data_classes7,cmap=custom_cmap,interpolation='none')\n",
    "\n",
    "cax = fig.add_axes([1.622, 0.02, 0.025, 0.87]) \n",
    "cbar = plt.colorbar(out, cax=cax)\n",
    "tx = np.linspace(0,3,9)\n",
    "cbar.set_ticks([tx[1],tx[3],tx[5],tx[7]])\n",
    "cbar.set_ticklabels(['Q1','Q2','Q3','Q4'],fontsize=16)\n",
    "\n",
    "ax1.set_xticks([])\n",
    "ax1.set_yticks([])\n",
    "ax2.set_xticks([])\n",
    "ax2.set_yticks([])\n",
    "ax3.set_xticks([])\n",
    "ax3.set_yticks([])\n",
    "ax4.set_xticks([])\n",
    "ax4.set_yticks([])\n",
    "ax5.set_xticks([])\n",
    "ax5.set_yticks([])\n",
    "ax6.set_xticks([])\n",
    "ax6.set_yticks([])\n",
    "ax7.set_xticks([])\n",
    "ax7.set_yticks([])\n",
    "\n",
    "ax1.set_title('a. DAN',fontsize=14)\n",
    "ax2.set_title('b. DPO',fontsize=14)\n",
    "ax3.set_title('c. GIN',fontsize=14)\n",
    "ax4.set_title('d. STR',fontsize=14)\n",
    "ax5.set_title('e. 551',fontsize=14)\n",
    "ax6.set_title('f. 737',fontsize=14)\n",
    "ax7.set_title('g. 869',fontsize=14)"
   ]
  }
 ],
 "metadata": {
  "kernelspec": {
   "display_name": "pangeo",
   "language": "python",
   "name": "pangeo"
  },
  "language_info": {
   "codemirror_mode": {
    "name": "ipython",
    "version": 3
   },
   "file_extension": ".py",
   "mimetype": "text/x-python",
   "name": "python",
   "nbconvert_exporter": "python",
   "pygments_lexer": "ipython3",
   "version": "3.8.13"
  }
 },
 "nbformat": 4,
 "nbformat_minor": 5
}
