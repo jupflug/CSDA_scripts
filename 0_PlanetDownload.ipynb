{
 "cells": [
  {
   "cell_type": "code",
   "execution_count": null,
   "id": "aec5f4d4-daaf-4704-af0a-cf52e3756bfc",
   "metadata": {
    "tags": []
   },
   "outputs": [],
   "source": [
    "import os\n",
    "import requests\n",
    "import geopandas as gpd\n",
    "from requests.auth import HTTPBasicAuth\n",
    "from shapely.geometry import shape\n",
    "import numpy as np\n",
    "import subprocess\n",
    "import json\n",
    "import pathlib\n",
    "import pandas as pd\n",
    "headers = {'Content-Type': 'application/json'}\n",
    "\n",
    "############# SET THESE VARIABLES ######################\n",
    "# redefined based on the filter you want to use\n",
    "# from geojson_GIN import domain\n",
    "# from geojson_STR import domain\n",
    "# from geojson_DPO import domain\n",
    "# from geojson_TUM import domain\n",
    "# from geojson_869 import domain\n",
    "# from geojson_DAN import domain\n",
    "# from geojson_793 import domain\n",
    "# from geojson_586 import domain\n",
    "# from geojson_737 import domain\n",
    "from geojson_551 import domain\n",
    "\n",
    "domainID = '551'\n",
    "\n",
    "# enter the Planet user API key\n",
    "apiKey = ''\n",
    "item_type = \"PSScene\"\n",
    "asset_type = \"ortho_analytic_4b_sr\"\n",
    "bundle_type = \"analytic_sr_udm2\"\n",
    "\n",
    "# data download location\n",
    "out_direc = '/Users/jpflug/Documents/Projects/cubesatReanaly/Data/Meadows/551/'\n",
    "############# DON'T CHANGE VARIABLES BEYOND THIS ############"
   ]
  },
  {
   "cell_type": "code",
   "execution_count": null,
   "id": "3bf8306b-7530-4ed1-8d8e-991b2711c2a2",
   "metadata": {},
   "outputs": [],
   "source": [
    "############ FUNCTIONS. DON'T CHANGE THESE!!! #########\n",
    "def build_payload(item_ids, item_type, bundle_type, aoi_coordinates):\n",
    "    payload = {\n",
    "        \"name\": item_ids[0],\n",
    "        \"source_type\": \"scenes\",\n",
    "        \"products\": [\n",
    "            {\n",
    "                \"item_ids\": item_ids,\n",
    "                \"item_type\": item_type,\n",
    "                \"product_bundle\": bundle_type\n",
    "            }\n",
    "        ],\n",
    "        \"tools\": [\n",
    "            {\n",
    "                \"clip\": {\n",
    "                    \"aoi\": {\n",
    "                        \"type\": \"Polygon\",\n",
    "                        \"coordinates\": aoi_coordinates\n",
    "                    }\n",
    "                }\n",
    "            }\n",
    "        ]\n",
    "    }\n",
    "    return payload\n",
    "\n",
    "def order_now(payload,apiKey):\n",
    "    orders_url = 'https://api.planet.com/compute/ops/orders/v2'\n",
    "    response = requests.post(orders_url, data=json.dumps(payload), auth=HTTPBasicAuth(apiKey, ''), headers=headers)\n",
    "    print(response)\n",
    "\n",
    "    if response.status_code==202:\n",
    "        order_id =response.json()['id']\n",
    "        url = f\"https://api.planet.com/compute/ops/orders/v2/{order_id}\"\n",
    "        # feature_check = requests.get(url, auth=(PLANET_API_KEY, \"\"))\n",
    "        feature_check = requests.get(url, auth=HTTPBasicAuth(apiKey, ''))\n",
    "        if feature_check.status_code==200:\n",
    "            print(f\"Submitted a total of {len(feature_check.json()['products'][0]['item_ids'])} image ids: accepted a total of {len(feature_check.json()['products'][0]['item_ids'])} ids\")\n",
    "            print(f\"Order URL: https://api.planet.com/compute/ops/orders/v2/{order_id}\")\n",
    "            return f\"https://api.planet.com/compute/ops/orders/v2/{order_id}\"\n",
    "    else:\n",
    "        print(f'Failed with Exception code : {response.status_code}')\n",
    "        \n",
    "def download_results(order_url,folder, overwrite=False):\n",
    "    r = requests.get(order_url, auth=HTTPBasicAuth(apiKey, ''))\n",
    "    try:\n",
    "        if r.status_code ==200:\n",
    "            response = r.json()\n",
    "            results = response['_links']['results']\n",
    "            results_urls = [r['location'] for r in results]\n",
    "            results_names = [r['name'] for r in results]\n",
    "            print('{} items to download'.format(len(results_urls)))\n",
    "\n",
    "            for url, name in zip(results_urls, results_names):\n",
    "                path = pathlib.Path(os.path.join(folder,name))\n",
    "\n",
    "                if overwrite or not path.exists():\n",
    "                    print('downloading {} to {}'.format(name, path))\n",
    "                    r = requests.get(url, allow_redirects=True)\n",
    "                    path.parent.mkdir(parents=True, exist_ok=True)\n",
    "                    open(path, 'wb').write(r.content)\n",
    "                else:\n",
    "                    print('{} already exists, skipping {}'.format(path, name))\n",
    "        else:\n",
    "            print(f'Failed with response {r.status_code}')\n",
    "    except:\n",
    "        print('data not ready yet')\n",
    "    r.close()\n",
    "    # except Exception as e:\n",
    "    #     print(e)\n",
    "    #     print(order_url)\n",
    "    #     raise Exception\n",
    "    # r.close()"
   ]
  },
  {
   "cell_type": "code",
   "execution_count": null,
   "id": "6c4eaf7c-324b-4513-a881-ca1d2d822564",
   "metadata": {},
   "outputs": [],
   "source": [
    "# ensure that the domain shape makes sense\n",
    "domain_geometry = shape(domain['config'][0]['config'])\n",
    "domain_geometry"
   ]
  },
  {
   "cell_type": "code",
   "execution_count": null,
   "id": "aa26b9ec-0f37-42c6-a174-9e019c4ba92a",
   "metadata": {},
   "outputs": [],
   "source": [
    "# Search API request object\n",
    "search_endpoint_request = {\n",
    "  \"item_types\": [item_type],\n",
    "  \"filter\": domain\n",
    "}\n",
    "result = \\\n",
    "  requests.post(\n",
    "    'https://api.planet.com/data/v1/quick-search',\n",
    "    auth=HTTPBasicAuth(apiKey, ''),\n",
    "    json=search_endpoint_request)"
   ]
  },
  {
   "cell_type": "code",
   "execution_count": null,
   "id": "3f8a0475-ddf8-4ec9-b7d5-dc74d01c855d",
   "metadata": {
    "tags": []
   },
   "outputs": [],
   "source": [
    "# view available data and prepare the list of planet IDs to download\n",
    "geojson_data = result.json()\n",
    "gdf = gpd.GeoDataFrame.from_features(geojson_data['features'])\n",
    "\n",
    "# Add a new column to 'gdf' with the intersection area\n",
    "gdf['intersection_area'] = gdf['geometry'].intersection(domain_geometry).area\n",
    "\n",
    "# Calculate the percentage overlap\n",
    "gdf['overlap_percentage'] = (gdf['intersection_area'] / domain_geometry.area) * 100\n",
    "\n",
    "gdf"
   ]
  },
  {
   "cell_type": "code",
   "execution_count": null,
   "id": "dcfb9b60-e23e-42c3-ac41-4cda633bbeae",
   "metadata": {
    "tags": []
   },
   "outputs": [],
   "source": [
    "# prep the ID and geometry lists\n",
    "id_list = [feature['id'] for idx, feature in enumerate(geojson_data['features']) if gdf['overlap_percentage'].iloc[idx] >= 99]\n",
    "geom_list = [feature['geometry'] for idx, feature in enumerate(geojson_data['features']) if gdf['overlap_percentage'].iloc[idx] >= 99]\n",
    "print(len(id_list))\n",
    "print(sorted(id_list))"
   ]
  },
  {
   "cell_type": "code",
   "execution_count": null,
   "id": "408af7ed-394c-4d27-9b86-5dfb984fbab1",
   "metadata": {
    "tags": []
   },
   "outputs": [],
   "source": [
    "### ONLY RUN THIS CELL IF YOU WANT TO CHECK ON ORDER STATUS\n",
    "\n",
    "# # see the status of the requested tiles. Are they \"active\"?\n",
    "# for IDD in id_list:\n",
    "#     print(IDD)\n",
    "#     command = 'curl -L -H \"Authorization: api-key '+apiKey+'\"'\n",
    "#     sublink = \" 'https://api.planet.com/data/v1/item-types/\"+item_type+\"/items/\"+IDD+\"/assets/' \"\n",
    "#     # sublink = \" 'https://api.planet.com/data/v2/item-types/\"+item_type+\"/items/\"+IDD+\"/assets/' \"\n",
    "#     command = command+sublink+'| jq .'+asset_type+'.status'\n",
    "#     status = subprocess.run(command, shell=True)\n",
    "#     print(command)\n",
    "#     # break"
   ]
  },
  {
   "cell_type": "code",
   "execution_count": null,
   "id": "ca61db89-f6ad-4cb9-a1ce-ee034cd26afa",
   "metadata": {
    "tags": []
   },
   "outputs": [],
   "source": [
    "# prepare and submit the orders\n",
    "order_urls = pd.DataFrame(columns = [\"index\",\"ID_geom\", \"order_url\"])\n",
    "\n",
    "# loop through each order payload, and submit\n",
    "for idx,IDD in enumerate(id_list):\n",
    "    print(idx,IDD)\n",
    "    \n",
    "    payload = build_payload([IDD],item_type,bundle_type,domain['config'][0]['config']['coordinates'])\n",
    "    order_url = order_now(payload,apiKey)\n",
    "    \n",
    "    order_urls.loc[idx, \"index\"] = idx        \n",
    "    order_urls.loc[idx, \"ID_geom\"] = IDD\n",
    "    order_urls.loc[idx, \"order_url\"] = order_url"
   ]
  },
  {
   "cell_type": "code",
   "execution_count": null,
   "id": "1ee29d48-899c-40d7-8d79-8f38edf90026",
   "metadata": {},
   "outputs": [],
   "source": [
    "# check out the data, save to a csv if you want to come back later\n",
    "print(order_urls)\n",
    "order_urls.to_csv('urlSaver.csv', index = None)# save all URLs"
   ]
  },
  {
   "cell_type": "code",
   "execution_count": null,
   "id": "c9c224a2-52e0-488e-aa80-a033bd45c9d7",
   "metadata": {
    "tags": []
   },
   "outputs": [],
   "source": [
    "# download the orders once ready\n",
    "# outputs of \"data not ready yet\" mean that the orders need more time to process before downloading\n",
    "for url in order_urls.itertuples():\n",
    "    print(url.index,url.order_url)\n",
    "    print(\"start downloading data to\".format(), out_direc + url.ID_geom)\n",
    "    if url.order_url != None:\n",
    "        try:\n",
    "            nantest = ~np.isnan(url.order_url)\n",
    "        except:\n",
    "            download_results(url.order_url,folder = out_direc + url.ID_geom)\n",
    "    # break"
   ]
  },
  {
   "cell_type": "code",
   "execution_count": null,
   "id": "45516cae-d60c-468b-886f-425fc0930ab1",
   "metadata": {},
   "outputs": [],
   "source": []
  }
 ],
 "metadata": {
  "kernelspec": {
   "display_name": "pangeo",
   "language": "python",
   "name": "pangeo"
  },
  "language_info": {
   "codemirror_mode": {
    "name": "ipython",
    "version": 3
   },
   "file_extension": ".py",
   "mimetype": "text/x-python",
   "name": "python",
   "nbconvert_exporter": "python",
   "pygments_lexer": "ipython3",
   "version": "3.8.13"
  }
 },
 "nbformat": 4,
 "nbformat_minor": 5
}
